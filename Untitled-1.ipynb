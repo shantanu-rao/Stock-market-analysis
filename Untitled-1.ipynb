{
 "cells": [
  {
   "cell_type": "code",
   "execution_count": null,
   "metadata": {},
   "outputs": [],
   "source": [
    "# Import required libraries\n",
    "import pandas as pd\n",
    "import numpy as np\n",
    "import matplotlib.pyplot as plt\n",
    "import seaborn as sns\n",
    "from yfinance import Ticker\n",
    "\n",
    "# Install yfinance if not already installed\n",
    "!pip install yfinance"
   ]
  },
  {
   "cell_type": "code",
   "execution_count": 10,
   "metadata": {},
   "outputs": [],
   "source": [
    "# Define the ticker symbols\n",
    "tickers = ['AAPL', 'GOOGL', 'MSFT', 'AMZN']\n",
    "\n",
    "# Create a dictionary to store the dataframes\n",
    "data_dict = {}\n",
    "\n",
    "for ticker in tickers:\n",
    "    # Fetch data for each ticker\n",
    "    t = Ticker(ticker)\n",
    "    df = t.history(period=\"5y\")\n",
    "    \n",
    "    # Store the dataframe in the dictionary\n",
    "    data_dict[ticker] = df\n"
   ]
  },
  {
   "cell_type": "code",
   "execution_count": null,
   "metadata": {},
   "outputs": [],
   "source": [
    "# Function to calculate moving average\n",
    "def calculate_moving_average(df, window):\n",
    "    return df['Close'].rolling(window=window).mean()\n",
    "\n",
    "# Calculate moving averages\n",
    "window_sizes = [20, 50]\n",
    "for ticker, df in data_dict.items():\n",
    "    for window in window_sizes:\n",
    "        df[f'MA_{window}'] = calculate_moving_average(df, window)\n",
    "\n",
    "# Plot the data\n",
    "plt.figure(figsize=(12, 6))\n",
    "for ticker, df in data_dict.items():\n",
    "    plt.plot(df.index, df['Close'], label=f'{ticker}')\n",
    "    for window in window_sizes:\n",
    "        plt.plot(df.index, df[f'MA_{window}'], label=f'{ticker}_MA_{window}')\n",
    "\n",
    "plt.title('Stock Price with Moving Averages')\n",
    "plt.xlabel('Date')\n",
    "plt.ylabel('Price')\n",
    "plt.legend()\n",
    "plt.show()\n"
   ]
  },
  {
   "cell_type": "code",
   "execution_count": null,
   "metadata": {},
   "outputs": [],
   "source": [
    "# Function to calculate RSI\n",
    "def calculate_rsi(data, period=14):\n",
    "    delta = data.diff().dropna()\n",
    "    gain = (delta.where(delta > 0, 0)).rolling(window=period).mean()\n",
    "    loss = (-delta.where(delta < 0, 0)).rolling(window=period).mean()\n",
    "    rs = gain / loss\n",
    "    return 100 - (100 / (1 + rs))\n",
    "\n",
    "# Calculate RSI\n",
    "for ticker, df in data_dict.items():\n",
    "    df['RSI'] = calculate_rsi(df['Close'])\n",
    "\n",
    "# Plot RSI\n",
    "plt.figure(figsize=(10, 6))\n",
    "for ticker, df in data_dict.items():\n",
    "    plt.plot(df.index, df['RSI'], label=f'{ticker}_RSI')\n",
    "\n",
    "plt.title('Relative Strength Index (RSI)')\n",
    "plt.xlabel('Date')\n",
    "plt.ylabel('RSI')\n",
    "plt.legend()\n",
    "plt.show()\n"
   ]
  },
  {
   "cell_type": "code",
   "execution_count": null,
   "metadata": {},
   "outputs": [],
   "source": [
    "# Prepare data for correlation\n",
    "correlation_df = pd.DataFrame()\n",
    "\n",
    "for ticker, df in data_dict.items():\n",
    "    correlation_df[ticker] = df['Close']\n",
    "\n",
    "# Create heatmap\n",
    "plt.figure(figsize=(12, 8))\n",
    "sns.heatmap(correlation_df.corr(), annot=True, cmap='coolwarm')\n",
    "plt.title('Correlation Heatmap')\n",
    "plt.show()"
   ]
  }
 ],
 "metadata": {
  "kernelspec": {
   "display_name": "Python 3",
   "language": "python",
   "name": "python3"
  },
  "language_info": {
   "codemirror_mode": {
    "name": "ipython",
    "version": 3
   },
   "file_extension": ".py",
   "mimetype": "text/x-python",
   "name": "python",
   "nbconvert_exporter": "python",
   "pygments_lexer": "ipython3",
   "version": "3.12.4"
  }
 },
 "nbformat": 4,
 "nbformat_minor": 2
}
